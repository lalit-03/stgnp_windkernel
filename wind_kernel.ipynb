{
 "cells": [
  {
   "attachments": {},
   "cell_type": "markdown",
   "metadata": {},
   "source": [
    "with variable lengthscale:\n"
   ]
  },
  {
   "cell_type": "code",
   "execution_count": 2,
   "metadata": {},
   "outputs": [
    {
     "data": {
      "text/plain": [
       "tensor([[ 0, -1, -2, -3, -4, -5, -6, -7, -8, -9],\n",
       "        [ 1,  0, -1, -2, -3, -4, -5, -6, -7, -8],\n",
       "        [ 2,  1,  0, -1, -2, -3, -4, -5, -6, -7],\n",
       "        [ 3,  2,  1,  0, -1, -2, -3, -4, -5, -6],\n",
       "        [ 4,  3,  2,  1,  0, -1, -2, -3, -4, -5],\n",
       "        [ 5,  4,  3,  2,  1,  0, -1, -2, -3, -4],\n",
       "        [ 6,  5,  4,  3,  2,  1,  0, -1, -2, -3],\n",
       "        [ 7,  6,  5,  4,  3,  2,  1,  0, -1, -2],\n",
       "        [ 8,  7,  6,  5,  4,  3,  2,  1,  0, -1],\n",
       "        [ 9,  8,  7,  6,  5,  4,  3,  2,  1,  0]])"
      ]
     },
     "execution_count": 2,
     "metadata": {},
     "output_type": "execute_result"
    }
   ],
   "source": [
    "import torch\n",
    "x = torch.tensor([xi-xj for xi in range(10) for xj in range(10)])\n",
    "x.view(10, 10)"
   ]
  },
  {
   "cell_type": "code",
   "execution_count": 12,
   "metadata": {},
   "outputs": [],
   "source": [
    "import numpy as np\n",
    "import matplotlib.pyplot as plt\n",
    "\n",
    "test_nodes = np.load(\"dataset\\\\bjair\\\\NP\\\\test_nodes.npy\")\n",
    "test_nodes1 = np.load(\"dataset\\\\bjair\\\\NP\\\\test_nodes1.npy\")\n",
    "test_nodes2 = np.load(\"dataset\\\\bjair\\\\NP\\\\test_nodes2.npy\")\n",
    "test_nodes3 = np.load(\"dataset\\\\bjair\\\\NP\\\\test_nodes3.npy\")\n",
    "test_nodes4 = np.load(\"dataset\\\\bjair\\\\NP\\\\test_nodes4.npy\")\n",
    "test_nodes5 = np.load(\"dataset\\\\bjair\\\\NP\\\\test_nodes5.npy\")\n"
   ]
  },
  {
   "cell_type": "code",
   "execution_count": 13,
   "metadata": {},
   "outputs": [
    {
     "name": "stdout",
     "output_type": "stream",
     "text": [
      "[ 0  1  3  4  7  8 13 14 18 29 31 34]\n",
      "[ 0  3  4 11 14 20 21 24 25 27 28 32]\n",
      "[ 0  2  9 12 13 16 19 23 27 30 31 34]\n",
      "[ 1  4  7  8  9 12 15 20 23 24 27 33]\n",
      "[ 2  3  6  8  9 10 16 19 21 27 29 30]\n",
      "[ 1  2  7 11 13 15 17 20 24 26 29 30]\n"
     ]
    }
   ],
   "source": [
    "print(test_nodes)\n",
    "print(test_nodes1)\n",
    "print(test_nodes2)\n",
    "print(test_nodes3)\n",
    "print(test_nodes4)\n",
    "print(test_nodes5)"
   ]
  },
  {
   "cell_type": "code",
   "execution_count": 11,
   "metadata": {},
   "outputs": [],
   "source": [
    "a = np.random.choice([i for i in range(35)], 12, replace=False).astype(\"int64\")\n",
    "a.sort()\n",
    "np.save(\"dataset\\\\bjair\\\\NP\\\\test_nodes1.npy\", a)"
   ]
  }
 ],
 "metadata": {
  "kernelspec": {
   "display_name": "stgnp",
   "language": "python",
   "name": "python3"
  },
  "language_info": {
   "codemirror_mode": {
    "name": "ipython",
    "version": 3
   },
   "file_extension": ".py",
   "mimetype": "text/x-python",
   "name": "python",
   "nbconvert_exporter": "python",
   "pygments_lexer": "ipython3",
   "version": "3.9.7"
  },
  "orig_nbformat": 4
 },
 "nbformat": 4,
 "nbformat_minor": 2
}
