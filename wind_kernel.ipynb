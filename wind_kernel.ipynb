{
 "cells": [
  {
   "attachments": {},
   "cell_type": "markdown",
   "metadata": {},
   "source": [
    "with variable lengthscale:\n"
   ]
  },
  {
   "cell_type": "code",
   "execution_count": 2,
   "metadata": {},
   "outputs": [
    {
     "data": {
      "text/plain": [
       "tensor([[ 0, -1, -2, -3, -4, -5, -6, -7, -8, -9],\n",
       "        [ 1,  0, -1, -2, -3, -4, -5, -6, -7, -8],\n",
       "        [ 2,  1,  0, -1, -2, -3, -4, -5, -6, -7],\n",
       "        [ 3,  2,  1,  0, -1, -2, -3, -4, -5, -6],\n",
       "        [ 4,  3,  2,  1,  0, -1, -2, -3, -4, -5],\n",
       "        [ 5,  4,  3,  2,  1,  0, -1, -2, -3, -4],\n",
       "        [ 6,  5,  4,  3,  2,  1,  0, -1, -2, -3],\n",
       "        [ 7,  6,  5,  4,  3,  2,  1,  0, -1, -2],\n",
       "        [ 8,  7,  6,  5,  4,  3,  2,  1,  0, -1],\n",
       "        [ 9,  8,  7,  6,  5,  4,  3,  2,  1,  0]])"
      ]
     },
     "execution_count": 2,
     "metadata": {},
     "output_type": "execute_result"
    }
   ],
   "source": [
    "import torch\n",
    "x = torch.tensor([xi-xj for xi in range(10) for xj in range(10)])\n",
    "x.view(10, 10)"
   ]
  }
 ],
 "metadata": {
  "kernelspec": {
   "display_name": "stgnp",
   "language": "python",
   "name": "python3"
  },
  "language_info": {
   "codemirror_mode": {
    "name": "ipython",
    "version": 3
   },
   "file_extension": ".py",
   "mimetype": "text/x-python",
   "name": "python",
   "nbconvert_exporter": "python",
   "pygments_lexer": "ipython3",
   "version": "3.9.7"
  },
  "orig_nbformat": 4
 },
 "nbformat": 4,
 "nbformat_minor": 2
}
